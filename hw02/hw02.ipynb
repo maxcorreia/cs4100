{
 "cells": [
  {
   "cell_type": "markdown",
   "metadata": {},
   "source": [
    "# CS 4100 Homework 02 \n",
    "\n",
    "#### Due Thursday  2/2 at midnight (1 minute after 11:59 pm) in Gradescope (with a grace period of 6 hours)\n",
    "#### You may submit the homework up to 24 hours late (with the same grace period) for a penalty of 10%. \n",
    "\n",
    "You must submit the homework in Gradescope as a zip file containing <b>two files:</b>\n",
    "- The <code>.ipynb</code> file (be sure to <code>Kernel -> Restart and Run All</code> before you submit); and\n",
    "- A <code>.pdf</code> file of the notebook. \n",
    "\n",
    "For best results obtaining a clean PDF file on the Mac, select <code>File -> Print Review</code> from the Jupyter window, then choose <code>File-> Print</code> in your browser and then <code>Save as PDF</code>.  Something  similar should be possible on a Windows machine. \n",
    "\n",
    "\n",
    " \n",
    "All homeworks will be scored with a maximum of 100 points; if point values are not given for individual\n",
    "problems, then all problems will be counted equally. \n",
    "\n",
    "Note: I have uploaded my solution for HW 01 on the class web page if you wish to use it; some of the code in HW 01 will be needed in this homework. "
   ]
  },
  {
   "cell_type": "code",
   "execution_count": 1,
   "metadata": {},
   "outputs": [],
   "source": [
    "# My solution from HW01\n",
    "import math\n",
    "from itertools import product\n",
    "\n",
    "def evalLiteral(I,L):\n",
    "    if I[abs(L)-1]:\n",
    "        return L > 0\n",
    "    else:\n",
    "        return (-1 * L) > 0\n",
    "\n",
    "def evalClause(I,C):\n",
    "    return any([evalLiteral(I, i) for i in C])\n",
    "\n",
    "def evalCNF(I,A):\n",
    "    return all([evalClause(I, i) for i in A])\n",
    "\n",
    "# Prints out the interpretations of a CNF statement;\n",
    "# takes in a list of list of integers (cnf statement with clauses)\n",
    "# and an integer (count of literals)\n",
    "def proveCNF(A, N):\n",
    "    satlist = [i*evalCNF(list(i), A) for i in list(product([True, False],repeat=N))]\n",
    "    print([i*evalCNF(list(i), A) for i in list(product([True, False],repeat=N))])\n",
    "    if all(i == () for i in satlist):\n",
    "        print(\"Unsatisfiable\")\n",
    "    elif not any(i == () for i in satlist):\n",
    "        print(\"True\")\n",
    "    else:\n",
    "        print(\"Satisfiable\")\n",
    "    print(\"There are \"+str(len([x for x in satlist if x != ()]))+\" satisfiable interpretations.\")"
   ]
  },
  {
   "cell_type": "markdown",
   "metadata": {},
   "source": [
    "Here are some useful utility functions for examining the results of your code. "
   ]
  },
  {
   "cell_type": "code",
   "execution_count": 2,
   "metadata": {},
   "outputs": [
    {
     "name": "stdout",
     "output_type": "stream",
     "text": [
      "-B\n",
      "{ C, -B }\n",
      "[ { A }, { B, -A }, { C, -B, -A } ]\n",
      "[ { A }, {}, { -B } ]\n"
     ]
    }
   ],
   "source": [
    "# This will pretty-print literals, clauses, and clause lists.\n",
    "# It will print out propositional letters as A, B, C, ...\n",
    "    \n",
    "def literal2String(L):\n",
    "    return ('-' if (L<0) else '') + chr(ord('A')+abs(L)-1)\n",
    "\n",
    "def clause2String(C):\n",
    "    if(C=={}):\n",
    "        return '{}'\n",
    "    else:\n",
    "        return '{ '+(', '.join([literal2String(L) for L in C]))+' }'\n",
    "\n",
    "def clauseList2String(A):\n",
    "    return '[ '+(', '.join([clause2String(C) for C in A]))+' ]'\n",
    "\n",
    "def pprint(X):\n",
    "    if(type(X)==int):              # X is literal\n",
    "        print(literal2String(X))\n",
    "    elif(type(X)==set):            # X is a clause\n",
    "        print(clause2String(X))\n",
    "    elif(type(X)==list):           # X is a clause list\n",
    "        print(clauseList2String(X))\n",
    "    else:\n",
    "        print('Error in pprint!')\n",
    "\n",
    "        #test\n",
    "\n",
    "pprint(-2)\n",
    "pprint({3,-2})\n",
    "pprint([ {1},{-1,2}, {-2,-1,3} ])\n",
    "pprint([ {1}, {}, {-2} ])\n"
   ]
  },
  {
   "cell_type": "markdown",
   "metadata": {},
   "source": [
    "## Problem One: Resolution Theorem Proving in Propositional Logic (30 pts)\n",
    "\n",
    "In this problem we will explore the resolution calculus, using breadth-first search to find the empty clause (if it exists) in the resolvents generated from the input set. \n",
    "\n",
    "### Part A: Resolution Rule\n",
    "\n",
    "Complete the following template according to the definition of resolution given in your text and in lecture. "
   ]
  },
  {
   "cell_type": "code",
   "execution_count": 3,
   "metadata": {},
   "outputs": [
    {
     "name": "stdout",
     "output_type": "stream",
     "text": [
      "{ A } { -A }\n",
      "[ {  } ] \n",
      "\n",
      "{ A, B } { -C, -A }\n",
      "[ { B, -C } ] \n",
      "\n",
      "{} { A, -B }\n",
      "[  ] \n",
      "\n",
      "{ A, -C } { A, -B }\n",
      "[  ] \n",
      "\n",
      "{ A, B, C } { -C, -A, -B }\n",
      "[ { B, C, -C, -B }, { A, C, -C, -A }, { A, B, -A, -B } ] \n",
      "\n"
     ]
    }
   ],
   "source": [
    "from itertools import accumulate\n",
    "\n",
    "# Return all possible resolvents of clauses C1 and C2 (sets)\n",
    "\n",
    "def resolve(C1,C2):\n",
    "    C1o = C1.copy()\n",
    "    C2o = C2.copy()\n",
    "    soln = []\n",
    "    for i in C1o:\n",
    "        if -1*i in C2o:\n",
    "            C1.remove(i)\n",
    "            C2.remove(-1*i)\n",
    "            soln.append(C1|C2)\n",
    "            C1 = C1o.copy()\n",
    "            C2 = C2o.copy()\n",
    "    return soln               # just to get it to compile, replace with your code\n",
    "\n",
    "\n",
    "# Tests -- Note that your sets may occur in a different order than shown here\n",
    "\n",
    "C1 = {1}\n",
    "C2 = {-1}\n",
    "print(clause2String(C1),clause2String(C2))                      \n",
    "print(clauseList2String(resolve(C1,C2)),'\\n')   # should be [ {} ]\n",
    "\n",
    "C1 = {1,2}\n",
    "C2 = {-1,-3}\n",
    "print(clause2String(C1),clause2String(C2))                      \n",
    "print(clauseList2String(resolve(C1,C2)),'\\n')   # should be [ { B, -C } ]\n",
    "\n",
    "C1 = {}\n",
    "C2 = {1,-2}\n",
    "print(clause2String(C1),clause2String(C2))                      \n",
    "print(clauseList2String(resolve(C1,C2)),'\\n')   # should be [  ]\n",
    "\n",
    "C1 = {1,-3}\n",
    "C2 = {1,-2}\n",
    "print(clause2String(C1),clause2String(C2))                      \n",
    "print(clauseList2String(resolve(C1,C2)),'\\n')   # should be [  ]\n",
    "\n",
    "C1 = {1,2,3}\n",
    "C2 = {-1,-2,-3}\n",
    "print(clause2String(C1),clause2String(C2))                      \n",
    "print(clauseList2String(resolve(C1,C2)),'\\n')   # should be [ { B, C, -C, -B }, { A, C, -C, -A }, { A, B, -A, -B } ]"
   ]
  },
  {
   "cell_type": "markdown",
   "metadata": {},
   "source": [
    "### Part B: Resolution Rule Continued\n",
    "\n",
    "Complete the following template according to the definition of resolution given in your text and in lecture. "
   ]
  },
  {
   "cell_type": "code",
   "execution_count": 4,
   "metadata": {},
   "outputs": [
    {
     "name": "stdout",
     "output_type": "stream",
     "text": [
      "[ { C, -B, -A } ]\n",
      "{ -C }\n",
      "[ { -B, -A } ]\n",
      "\n",
      "[ { A }, {}, { -C, -B, -A } ]\n",
      "{ -C }\n",
      "[  ]\n",
      "\n",
      "[  ]\n",
      "{ -C }\n",
      "[  ]\n",
      "\n",
      "[ { A }, { B, -A }, { C, -B, -A } ]\n",
      "{ A, -C }\n",
      "[ { B, -C }, { C, -C, -B }, { A, -B, -A } ]\n"
     ]
    }
   ],
   "source": [
    "# A is a list of clauses, C is a clause\n",
    "# Return list of all possible resolvents of C with a clause in A\n",
    "\n",
    "def resolveAll(A,C):\n",
    "    Co = C.copy()\n",
    "    soln = []\n",
    "    for x in range(len(A)):\n",
    "        newC = A[x].copy()\n",
    "        soln += resolve(C, newC)\n",
    "        C = Co.copy()\n",
    "    return soln\n",
    "\n",
    "# tests\n",
    "\n",
    "KB = [ {-2,-1,3} ]\n",
    "NQ = {-3}\n",
    "\n",
    "pprint(KB)\n",
    "pprint(NQ)\n",
    "pprint(resolveAll(KB,NQ))     # should be [ { -B, -A } ]\n",
    "print()\n",
    "\n",
    "KB = [ {1}, {}, {-2,-1,-3} ]\n",
    "NQ = {-3}\n",
    "\n",
    "pprint(KB)\n",
    "pprint(NQ)\n",
    "pprint(resolveAll(KB,NQ))     # should be [  ]\n",
    "print()\n",
    "\n",
    "KB = [ ]\n",
    "NQ = {-3}\n",
    "\n",
    "pprint(KB)\n",
    "pprint(NQ)\n",
    "pprint(resolveAll(KB,NQ))     # should be [  ]\n",
    "print()\n",
    "\n",
    "KB = [ {1}, {-1,2}, {-2,-1,3} ]\n",
    "NQ = {-3,1}\n",
    "\n",
    "pprint(KB)\n",
    "pprint(NQ)\n",
    "pprint(resolveAll(KB,NQ))     # should be [ { B, -C }, { A, -B, -A }, { C, -C, -B } ]"
   ]
  },
  {
   "cell_type": "markdown",
   "metadata": {},
   "source": [
    "### Part C:  Breadth-first Prover\n",
    "\n",
    "Write a function `prove1` which takes a set `CL`\n",
    "and searches for the empty clause by inserting all members of CL into a queue, and generating\n",
    "resolvents from the clause popped off the front of the queue with any member of the rest of queue, \n",
    "and adding them to the back of the queue. It should behave as shown below:\n",
    "\n",
    "- If the empty clause is found, report \"Unsatisfiable\";\n",
    "- If the queue empties out, report \"Satisfiable\"; \n",
    "- If the prover can not find the empty clause after 'limit' steps, report that fact. \n",
    "\n",
    "In each case, you should also report the number of steps (= times you popped the front off the queue);\n",
    "\n",
    "If the parameter `trace` is true, you should print out the queue at each step. "
   ]
  },
  {
   "cell_type": "code",
   "execution_count": 5,
   "metadata": {},
   "outputs": [],
   "source": [
    "# perform breath-first search from a set of clauses CL, by\n",
    "# inserting all of CL into a queue\n",
    "# and then searching using BFS by generating resolvents of head of queue with any\n",
    "# clause in the queue\n",
    "\n",
    "def prove1(CL,limit=30,trace=True):\n",
    "    queue = CL.copy()\n",
    "    for i in range(limit):\n",
    "        if trace:\n",
    "            pprint(queue)\n",
    "        if queue == []:\n",
    "            print(\"Satisfiable\")\n",
    "            print(str(i)+\" steps were taken\")\n",
    "            return True\n",
    "        curr = queue.pop(0)\n",
    "        queue2 = queue.copy()\n",
    "        for y in resolveAll(queue2, curr):\n",
    "            if y == set():\n",
    "                print(\"Unsatisfiable\")\n",
    "                print(str(i+1)+\" steps were taken\")\n",
    "                return False\n",
    "            else:\n",
    "                queue.append(y)\n",
    "            \n",
    "    print(\"The empty clause cannot be found after \"+str(limit)+\" steps.\")\n",
    "    return False\n",
    "  "
   ]
  },
  {
   "cell_type": "code",
   "execution_count": 6,
   "metadata": {},
   "outputs": [
    {
     "name": "stdout",
     "output_type": "stream",
     "text": [
      "\n",
      "test a \n",
      "------\n",
      "CL1a: [ { B }, { -B } ]\n",
      "\n",
      "[ { B }, { -B } ]\n",
      "Unsatisfiable\n",
      "1 steps were taken\n",
      "\n",
      "test b \n",
      "------\n",
      "CL1b: [ { A }, { B, -A }, { C, -B }, { D, -C }, { -D } ]\n",
      "\n",
      "[ { A }, { B, -A }, { C, -B }, { D, -C }, { -D } ]\n",
      "[ { B, -A }, { C, -B }, { D, -C }, { -D }, { B } ]\n",
      "[ { C, -B }, { D, -C }, { -D }, { B }, { C, -A } ]\n",
      "[ { D, -C }, { -D }, { B }, { C, -A }, { D, -B }, { C } ]\n",
      "[ { -D }, { B }, { C, -A }, { D, -B }, { C }, { -C }, { D, -A }, { D } ]\n",
      "Unsatisfiable\n",
      "5 steps were taken\n",
      "\n",
      "test c \n",
      "------\n",
      "CL1c: [ { A }, { B, C, -A }, { D, -C }, { E, -C }, { -E }, { -B } ]\n",
      "\n",
      "[ { A }, { B, C, -A }, { D, -C }, { E, -C }, { -E }, { -B } ]\n",
      "[ { B, C, -A }, { D, -C }, { E, -C }, { -E }, { -B }, { B, C } ]\n",
      "[ { D, -C }, { E, -C }, { -E }, { -B }, { B, C }, { B, D, -A }, { B, E, -A }, { C, -A } ]\n",
      "[ { E, -C }, { -E }, { -B }, { B, C }, { B, D, -A }, { B, E, -A }, { C, -A }, { B, D }, { D, -A } ]\n",
      "[ { -E }, { -B }, { B, C }, { B, D, -A }, { B, E, -A }, { C, -A }, { B, D }, { D, -A }, { -C }, { B, E }, { E, -A } ]\n",
      "[ { -B }, { B, C }, { B, D, -A }, { B, E, -A }, { C, -A }, { B, D }, { D, -A }, { -C }, { B, E }, { E, -A }, { B, -A }, { B }, { -A } ]\n",
      "Unsatisfiable\n",
      "6 steps were taken\n",
      "\n",
      "test d \n",
      "------\n",
      "CL1d: [ { A }, { B, C, -A }, { D, -C }, { E, -C }, { -E } ]\n",
      "\n",
      "[ { A }, { B, C, -A }, { D, -C }, { E, -C }, { -E } ]\n",
      "[ { B, C, -A }, { D, -C }, { E, -C }, { -E }, { B, C } ]\n",
      "[ { D, -C }, { E, -C }, { -E }, { B, C }, { B, D, -A }, { B, E, -A } ]\n",
      "[ { E, -C }, { -E }, { B, C }, { B, D, -A }, { B, E, -A }, { B, D } ]\n",
      "[ { -E }, { B, C }, { B, D, -A }, { B, E, -A }, { B, D }, { -C }, { B, E } ]\n",
      "[ { B, C }, { B, D, -A }, { B, E, -A }, { B, D }, { -C }, { B, E }, { B, -A }, { B } ]\n",
      "[ { B, D, -A }, { B, E, -A }, { B, D }, { -C }, { B, E }, { B, -A }, { B }, { B } ]\n",
      "[ { B, E, -A }, { B, D }, { -C }, { B, E }, { B, -A }, { B }, { B } ]\n",
      "[ { B, D }, { -C }, { B, E }, { B, -A }, { B }, { B } ]\n",
      "[ { -C }, { B, E }, { B, -A }, { B }, { B } ]\n",
      "[ { B, E }, { B, -A }, { B }, { B } ]\n",
      "[ { B, -A }, { B }, { B } ]\n",
      "[ { B }, { B } ]\n",
      "[ { B } ]\n",
      "[  ]\n",
      "Satisfiable\n",
      "14 steps were taken\n",
      "\n"
     ]
    }
   ],
   "source": [
    "# tests: first 3 are unsatisfiable, test 4 is satisfiable\n",
    "\n",
    "print('\\ntest a','\\n------')\n",
    "CL1a = [ {2}, {-2} ]     \n",
    "\n",
    "print('CL1a: ',end=''); pprint(CL1a); print()\n",
    "prove1(CL1a); print()\n",
    "\n",
    "print('test b','\\n------')\n",
    "CL1b = [ {1}, {-1,2}, {-2,3}, {-3,4}, {-4} ]\n",
    "\n",
    "print('CL1b: ',end=''); pprint(CL1b); print()\n",
    "prove1(CL1b); print()\n",
    "\n",
    "print('test c','\\n------')\n",
    "CL1c = [ {1}, {-1,2,3}, {-3,4}, {-3,5}, {-5}, {-2} ]\n",
    "\n",
    "print('CL1c: ',end=''); pprint(CL1c); print()\n",
    "prove1(CL1c); print()\n",
    "\n",
    "print('test d','\\n------')\n",
    "CL1d = [ {1}, {-1,2,3}, {-3,4}, {-3,5}, {-5} ]\n",
    "\n",
    "print('CL1d: ',end=''); pprint(CL1d); print()\n",
    "prove1(CL1d); print()\n"
   ]
  },
  {
   "cell_type": "markdown",
   "metadata": {},
   "source": [
    "## Problem Two (10 pts)\n",
    "\n",
    "In this problem, we will experiment with our prover to understand its behavior. \n",
    "\n",
    "### Part A\n",
    "\n",
    "Generate a list of clauses `CL2a` such that\n",
    "\n",
    "-  CL2a is satisfiable, but \n",
    "-  It will make the prover run forever (in this case, not terminating with \"Satisfiable!\" within 30 steps)\n",
    "\n",
    "You must \n",
    "\n",
    "- Pretty-print CL2a\n",
    "- Prove that it is satisfiable (using your code from HW 01), \n",
    "- Show that it fails to terminate after 30 steps, and\n",
    "- Explain why your example behaves in this way. \n",
    "\n",
    "Note: Your example should be such that no matter how large `limit` is, it will not terminate; however,\n",
    "for purposes of grading, you should leave `limit=30` but `trace=False`.  \n",
    "\n",
    "Hint: See if you can get the prover to loop uselessly on the same clauses. It may help to\n",
    "think about the order in which clauses will be processed. "
   ]
  },
  {
   "cell_type": "code",
   "execution_count": 7,
   "metadata": {},
   "outputs": [
    {
     "name": "stdout",
     "output_type": "stream",
     "text": [
      "test 2a \n",
      "------\n",
      "[(True, True), (), (), (False, False)]\n",
      "Satisfiable\n",
      "There are 2 satisfiable interpretations.\n",
      "\n",
      "CL2a: [ { B, -A }, { A, -B }, { A, -B } ]\n",
      "\n",
      "The empty clause cannot be found after 30 steps.\n",
      "\n"
     ]
    }
   ],
   "source": [
    "print('test 2a','\\n------')\n",
    "CL2a = [{-1, 2}, {-2, 1}, {-2, 1}]\n",
    "\n",
    "proveCNF(CL2a, 2)\n",
    "print()\n",
    "\n",
    "print('CL2a: ',end=''); pprint(CL2a); print()\n",
    "prove1(CL2a, 30, False); print()\n",
    "\n",
    "# This clause contains statements that logically imply each other,\n",
    "# causing an infinite loop where the same clauses are generated multiple times."
   ]
  },
  {
   "cell_type": "markdown",
   "metadata": {},
   "source": [
    "### Part B  \n",
    "\n",
    "In this problem we will explore what happens when the clause set causes an exponential explosion \n",
    "in the search space. We will use a classic example of a clause set which requires exponential time (assuming\n",
    "$P\\ne NP$). \n",
    "\n",
    "First create a clause list `CL2b` from only 2 symbols which is unsatisfiable but causes\n",
    "exponential behavior. The easiest way to do this is to create a clause set with 4 clauses, each of\n",
    "which makes one row of the truth table for two symbols (say A and B) false. For example,\n",
    "for a row that has **(True,False)**, you would create $\\{ \\neg A, B \\} = \\neg A\\vee B.$ If you\n",
    "make sure that no row of the truth table is a model, then it must be unsatisfiable, but\n",
    "each clause is necessary to prove this fact (if you leave a clause out, then that row\n",
    "of the table would be a model). \n",
    "\n",
    "It should take 7 steps to determine unsatisfiability. \n",
    "\n",
    "As in Part A, \n",
    "\n",
    "- Pretty-print CL2b\n",
    "- Verify that it is unsatisfiable using code from HW 01\n",
    "- Show that it takes 7 steps to find the empty clause. \n"
   ]
  },
  {
   "cell_type": "code",
   "execution_count": 8,
   "metadata": {},
   "outputs": [
    {
     "name": "stdout",
     "output_type": "stream",
     "text": [
      "test 2b \n",
      "------\n",
      "[(), (), (), ()]\n",
      "Unsatisfiable\n",
      "There are 0 satisfiable interpretations.\n",
      "\n",
      "CL2b: [ { B, -A }, { A, B }, { -A, -B }, { A, -B } ]\n",
      "\n",
      "[ { B, -A }, { A, B }, { -A, -B }, { A, -B } ]\n",
      "[ { A, B }, { -A, -B }, { A, -B }, { B }, { -A }, { A, -A }, { B, -B } ]\n",
      "[ { -A, -B }, { A, -B }, { B }, { -A }, { A, -A }, { B, -B }, { B, -B }, { A, -A }, { A }, { B }, { A, B }, { A, B } ]\n",
      "[ { A, -B }, { B }, { -A }, { A, -A }, { B, -B }, { B, -B }, { A, -A }, { A }, { B }, { A, B }, { A, B }, { -B }, { -A }, { -B, -A }, { -A, -B }, { -A, -B }, { -B, -A }, { -B }, { -A }, { B, -B }, { A, -A }, { B, -B }, { A, -A } ]\n",
      "[ { B }, { -A }, { A, -A }, { B, -B }, { B, -B }, { A, -A }, { A }, { B }, { A, B }, { A, B }, { -B }, { -A }, { -B, -A }, { -A, -B }, { -A, -B }, { -B, -A }, { -B }, { -A }, { B, -B }, { A, -A }, { B, -B }, { A, -A }, { A }, { -B }, { A, -B }, { A, -B }, { A, -B }, { A, -B }, { A }, { A }, { A }, { -B }, { -B }, { -B }, { -B }, { -B }, { -B }, { A, -B }, { A, -B }, { A, -B }, { A, -B } ]\n",
      "Unsatisfiable\n",
      "5 steps were taken\n",
      "\n"
     ]
    }
   ],
   "source": [
    "print('test 2b','\\n------')\n",
    "CL2b = [ {-1, 2}, {1, 2}, {-1, -2}, {1, -2} ]\n",
    "\n",
    "proveCNF(CL2b, 2)\n",
    "print()\n",
    "\n",
    "print('CL2b: ',end=''); pprint(CL2b); print()\n",
    "prove1(CL2b); print()"
   ]
  },
  {
   "cell_type": "markdown",
   "metadata": {},
   "source": [
    "### Part C\n",
    "\n",
    "Now, create a clause list `CL2d`from 3 symbols, with 8 clauses, along the same lines as the previous example (each\n",
    "clause makes one line of the truth table false).  \n",
    "\n",
    " \n",
    "\n",
    "To do:\n",
    "\n",
    "- Pretty-print CL2d\n",
    "- Prove that it is unsatisfiable as above\n",
    "- Run this with a limit of 3, 4, and 5 to get a sense for what this will do. Then turn off tracing and try it for a few more (very soon it will simply get lost in an exponential explosion).\n",
    "- Answer this question: How large could you make limit and still get \"Empty clause not found after ...\" to print out within say a minute?"
   ]
  },
  {
   "cell_type": "code",
   "execution_count": 9,
   "metadata": {},
   "outputs": [
    {
     "name": "stdout",
     "output_type": "stream",
     "text": [
      "test 2d \n",
      "------\n",
      "[(), (), (), (), (), (), (), ()]\n",
      "Unsatisfiable\n",
      "There are 0 satisfiable interpretations.\n",
      "\n",
      "CL2d: [ { A, B, C }, { B, C, -A }, { A, B, -C }, { A, -C, -B }, { A, C, -B }, { B, -C, -A }, { -C, -A, -B }, { C, -A, -B } ]\n",
      "\n",
      "The empty clause cannot be found after 13 steps.\n",
      "\n"
     ]
    }
   ],
   "source": [
    "print('test 2d','\\n------')\n",
    "CL2d = [ {1, 2, 3}, {-1,2,3}, {1, 2, -3}, {1, -2, -3}, {1, -2, 3}, {-1, 2, -3}, {-1, -2, -3}, {-1, -2, 3} ]\n",
    "\n",
    "proveCNF(CL2d, 3)\n",
    "print()\n",
    "\n",
    "print('CL2d: ',end=''); pprint(CL2d); print()\n",
    "prove1(CL2d, 13, False); print()\n",
    "\n",
    "# For my machine, 13 steps is the most it can process in a minute"
   ]
  },
  {
   "cell_type": "markdown",
   "metadata": {},
   "source": [
    " "
   ]
  },
  {
   "cell_type": "markdown",
   "metadata": {},
   "source": [
    "## Refinements of Resolution\n",
    "\n",
    "There are various ways to make resolution more efficient, including\n",
    "\n",
    "- Set of Support Strategy: partition your clause set into subsets KB and SOS, such that KB is satisfiable, but KB + SOS is unsatisfiable; \n",
    "- Removing useless clauses such as tautologies and duplicates\n",
    "- Shortest-Clauses-First: use a priority queue instead of a queue, and keep it ordered by size, with\n",
    "smaller clauses to the front.\n",
    "\n",
    "The motivation for all of these is to prevent doing useless work, and--in the case of the shortest-first--to try to focus on creating short clauses as soon as possible. \n"
   ]
  },
  {
   "cell_type": "markdown",
   "metadata": {},
   "source": [
    "## Problem 3 (Set of Support) (10 pts)\n",
    "\n",
    "\n",
    "### Part A \n",
    "\n",
    "Rewrite your prover to create a function `prove3` which uses the set of support strategy, \n",
    "where the set of unsatisfiable clauses is separated into KB and SOS, in such a way that KB is\n",
    "known to be satisfiable. \n",
    "\n",
    "- Your prover will take KB and SOS as separate arguments;\n",
    "- Create your initial queue from SOS alone;\n",
    "- In each step, remove the head of the queue, and form resolvents between that clause\n",
    "and any clause in KB + Queue. \n",
    "\n",
    "Rewrite the tests from Problem One, Part A, such that the *last* clause in each list is removed\n",
    "and put in the SOS. The first one is done for you to show what is needed. \n",
    "\n",
    "Run your prover on these four examples to verify that all is working as expected. "
   ]
  },
  {
   "cell_type": "code",
   "execution_count": 10,
   "metadata": {},
   "outputs": [],
   "source": [
    "def prove3(KB, SOS, limit=30,trace=True):\n",
    "    queue = SOS.copy()\n",
    "    for i in range(limit):\n",
    "        if trace:\n",
    "            pprint(queue)\n",
    "        if queue == []:\n",
    "            print(\"Satisfiable\")\n",
    "            print(str(i)+\" steps were taken\")\n",
    "            return True\n",
    "        curr = queue.pop(0)\n",
    "        queue2 = KB.copy() + queue.copy()\n",
    "        for y in resolveAll(queue2, curr):\n",
    "            if y == set():\n",
    "                print(\"Unsatisfiable\")\n",
    "                print(str(i+1)+\" steps were taken\")\n",
    "                return False\n",
    "            else:\n",
    "                queue.append(y)\n",
    "            \n",
    "    print(\"The empty clause cannot be found after \"+str(limit)+\" steps.\")\n",
    "    return False"
   ]
  },
  {
   "cell_type": "code",
   "execution_count": 11,
   "metadata": {},
   "outputs": [
    {
     "name": "stdout",
     "output_type": "stream",
     "text": [
      "\n",
      "test 1 \n",
      "------\n",
      "KB3a1: [ { B } ]\n",
      "SOS3a1: [ { -B } ]\n",
      "\n",
      "[ { -B } ]\n",
      "Unsatisfiable\n",
      "1 steps were taken\n",
      "\n",
      "\n",
      "test 2 \n",
      "------\n",
      "KB3a2: [ { A }, { B, -A }, { C, -B }, { D, -C } ]\n",
      "SOS3a2: [ { -D } ]\n",
      "\n",
      "[ { -D } ]\n",
      "[ { -C } ]\n",
      "[ { -B } ]\n",
      "[ { -A } ]\n",
      "Unsatisfiable\n",
      "4 steps were taken\n",
      "\n",
      "\n",
      "test 3 \n",
      "------\n",
      "KB3a3: [ { A }, { B, C, -A }, { D, -C }, { E, -C }, { -E } ]\n",
      "SOS3a3: [ { -B } ]\n",
      "\n",
      "[ { -B } ]\n",
      "[ { C, -A } ]\n",
      "[ { C }, { D, -A }, { E, -A } ]\n",
      "[ { D, -A }, { E, -A }, { D }, { E } ]\n",
      "[ { E, -A }, { D }, { E }, { D } ]\n",
      "[ { D }, { E }, { D }, { E }, { -A } ]\n",
      "[ { E }, { D }, { E }, { -A } ]\n",
      "Unsatisfiable\n",
      "7 steps were taken\n",
      "\n",
      "\n",
      "test 4 \n",
      "------\n",
      "KB3a4: [ { A }, { B, C, -A }, { D, -C }, { E, -C } ]\n",
      "SOS3a4: [ { -E } ]\n",
      "\n",
      "[ { -E } ]\n",
      "[ { -C } ]\n",
      "[ { B, -A } ]\n",
      "[ { B } ]\n",
      "[  ]\n",
      "Satisfiable\n",
      "4 steps were taken\n",
      "\n"
     ]
    }
   ],
   "source": [
    "print('\\ntest 1','\\n------')\n",
    "KB3a1 = [ {2} ]\n",
    "SOS3a1 = [ {-2} ]\n",
    "\n",
    "print('KB3a1: ',end=''); pprint(KB3a1); \n",
    "print('SOS3a1: ',end=''); pprint(SOS3a1); print()\n",
    "prove3(KB3a1,SOS3a1); print()\n",
    "\n",
    "# etc for other 3\n",
    "\n",
    "print('\\ntest 2','\\n------')\n",
    "KB3a2 = [ {1}, {-1,2}, {-2,3}, {-3,4} ]\n",
    "SOS3a2 = [ {-4} ]\n",
    "\n",
    "print('KB3a2: ',end=''); pprint(KB3a2); \n",
    "print('SOS3a2: ',end=''); pprint(SOS3a2); print()\n",
    "prove3(KB3a2,SOS3a2); print()\n",
    "\n",
    "print('\\ntest 3','\\n------')\n",
    "KB3a3 = [ {1}, {-1,2,3}, {-3,4}, {-3,5}, {-5} ]\n",
    "SOS3a3 = [ {-2} ]\n",
    "\n",
    "print('KB3a3: ',end=''); pprint(KB3a3); \n",
    "print('SOS3a3: ',end=''); pprint(SOS3a3); print()\n",
    "prove3(KB3a3,SOS3a3); print()\n",
    "\n",
    "print('\\ntest 4','\\n------')\n",
    "KB3a4 = [ {1}, {-1,2,3}, {-3,4}, {-3,5} ]\n",
    "SOS3a4 = [ {-5} ]\n",
    "\n",
    "print('KB3a4: ',end=''); pprint(KB3a4); \n",
    "print('SOS3a4: ',end=''); pprint(SOS3a4); print()\n",
    "prove3(KB3a4,SOS3a4); print()"
   ]
  },
  {
   "cell_type": "markdown",
   "metadata": {},
   "source": [
    "### Part B\n",
    "\n",
    "Now take the same clause set as in Problem Two Part B, but move the last clause into the SOS and keep the other three in KB. Run this example with prove3. \n"
   ]
  },
  {
   "cell_type": "code",
   "execution_count": 12,
   "metadata": {},
   "outputs": [
    {
     "name": "stdout",
     "output_type": "stream",
     "text": [
      "test 3b \n",
      "------\n",
      "KB3b1: [ { B, -A }, { A, B }, { -A, -B } ]\n",
      "SOS3b1: [ { A, -B } ]\n",
      "\n",
      "[ { A, -B } ]\n",
      "[ { B, -B }, { A, -A }, { A }, { -B } ]\n",
      "[ { A, -A }, { A }, { -B }, { B, -A }, { A, B }, { -B, -A }, { -B } ]\n",
      "[ { A }, { -B }, { B, -A }, { A, B }, { -B, -A }, { -B }, { B, -A }, { A, B }, { -A, -B }, { A }, { B, -A }, { A, B }, { -A, -B } ]\n",
      "[ { -B }, { B, -A }, { A, B }, { -B, -A }, { -B }, { B, -A }, { A, B }, { -A, -B }, { A }, { B, -A }, { A, B }, { -A, -B }, { B }, { -B }, { B }, { -B }, { B }, { -B }, { B }, { -B } ]\n",
      "Unsatisfiable\n",
      "5 steps were taken\n",
      "\n"
     ]
    }
   ],
   "source": [
    "print('test 3b','\\n------')\n",
    "KB3b1 = [ {-1, 2}, {1, 2}, {-1, -2} ]\n",
    "SOS3b1 = [ {1, -2} ]\n",
    "\n",
    "print('KB3b1: ',end=''); pprint(KB3b1); \n",
    "print('SOS3b1: ',end=''); pprint(SOS3b1); print()\n",
    "prove3(KB3b1,SOS3b1); print()"
   ]
  },
  {
   "cell_type": "markdown",
   "metadata": {},
   "source": [
    "### Part C\n",
    "\n",
    "Now take the same clause set as in Problem Two Part C, but put the last clause in the SOS and the other 7 in KB.\n",
    "Experiment in the same way you did in Problem Two Part C. "
   ]
  },
  {
   "cell_type": "code",
   "execution_count": 13,
   "metadata": {
    "scrolled": true
   },
   "outputs": [
    {
     "name": "stdout",
     "output_type": "stream",
     "text": [
      "test 3c \n",
      "------\n",
      "KB3c1: [ { A, B, C }, { B, C, -A }, { A, B, -C }, { A, -C, -B }, { A, C, -B }, { B, -C, -A }, { -C, -A, -B } ]\n",
      "SOS3c1: [ { C, -A, -B } ]\n",
      "\n",
      "The empty clause cannot be found after 14 steps.\n",
      "\n"
     ]
    }
   ],
   "source": [
    "print('test 3c','\\n------')\n",
    "KB3c1 = [ {1, 2, 3}, {-1,2,3}, {1, 2, -3}, {1, -2, -3}, {1, -2, 3}, {-1, 2, -3}, {-1, -2, -3} ]\n",
    "SOS3c1 = [ {-1, -2, 3} ]\n",
    "\n",
    "print('KB3c1: ',end=''); pprint(KB3c1); \n",
    "print('SOS3c1: ',end=''); pprint(SOS3c1); print()\n",
    "prove3(KB3c1,SOS3c1, 14, False); print()\n",
    "\n",
    "# The number goes to 14 even with the SOS modifications (my kernel died for larger numbers)"
   ]
  },
  {
   "cell_type": "markdown",
   "metadata": {},
   "source": [
    "### Part D\n",
    "\n",
    "Provide a brief statement of what you observed using the set of support strategy. Explain why you think this behavior is happening.  "
   ]
  },
  {
   "cell_type": "markdown",
   "metadata": {},
   "source": [
    "With the support strategy, the satisfiable clause sets took less time to prove themselves, while the unsatisfiable sets took similar amounts of time; the SOS strategy likely accelerated the proving of satisfiable sets since those satisfiable sets were already accounted for during each step of this algorithm's loop."
   ]
  },
  {
   "cell_type": "markdown",
   "metadata": {},
   "source": [
    "## Problem 4 (Removing Useless Clauses) (10 pts)\n",
    "\n",
    "Keeping the set of support strategy, in this problem you must rewrite your prover from Problem 3 as `prove4`, which\n",
    "checks clauses as they are generated by resolution, and does NOT put them in the queue\n",
    "if\n",
    "\n",
    "- They are tautologies (some symbol and its negation both appear in the clause);\n",
    "- They have already been generated before.\n",
    "\n",
    "For the second, you must create a set `Visited` which is a set (hash table) containing\n",
    "copies of all clauses generated at any time in the past; in order to create a set of\n",
    "sets, you will need to make copies of the clauses as `frozenset`s. Here is a brief\n",
    "example of how to do that:"
   ]
  },
  {
   "cell_type": "code",
   "execution_count": 14,
   "metadata": {},
   "outputs": [
    {
     "name": "stdout",
     "output_type": "stream",
     "text": [
      "{frozenset({1, 2})}\n",
      "True\n"
     ]
    }
   ],
   "source": [
    "S = set()\n",
    "A = {1,2}\n",
    "\n",
    "S.add( frozenset(A) )\n",
    "print(S)\n",
    "print( A in S)"
   ]
  },
  {
   "cell_type": "markdown",
   "metadata": {},
   "source": [
    "### Part A\n",
    "\n",
    "Write `prove4` as specified; you probably want to create a separate function `isTautology(C)`. \n",
    "Test it on examples as in Problem 3, Part A, just to verify you have done it correctly. "
   ]
  },
  {
   "cell_type": "code",
   "execution_count": 15,
   "metadata": {},
   "outputs": [
    {
     "name": "stdout",
     "output_type": "stream",
     "text": [
      "False\n",
      "False\n",
      "True\n"
     ]
    }
   ],
   "source": [
    "import math\n",
    "def isTautology(C):\n",
    "    return any(-1*i in C for i in C)\n",
    "\n",
    "# tests\n",
    "print(isTautology({1, 2, -3}))\n",
    "print(isTautology({}))\n",
    "print(isTautology({1, -1, 2}))\n"
   ]
  },
  {
   "cell_type": "code",
   "execution_count": 16,
   "metadata": {},
   "outputs": [
    {
     "name": "stdout",
     "output_type": "stream",
     "text": [
      "\n",
      "test 1 \n",
      "------\n",
      "KB3a1: [ { B } ]\n",
      "SOS3a1: [ { -B } ]\n",
      "\n",
      "[ { -B } ]\n",
      "Unsatisfiable\n",
      "1 steps were taken\n",
      "\n",
      "\n",
      "test 2 \n",
      "------\n",
      "KB3a2: [ { A }, { B, -A }, { C, -B }, { D, -C } ]\n",
      "SOS3a2: [ { -D } ]\n",
      "\n",
      "[ { -D } ]\n",
      "[ { -C } ]\n",
      "[ { -B } ]\n",
      "[ { -A } ]\n",
      "Unsatisfiable\n",
      "4 steps were taken\n",
      "\n",
      "\n",
      "test 3 \n",
      "------\n",
      "KB3a3: [ { A }, { B, C, -A }, { D, -C }, { E, -C }, { -E } ]\n",
      "SOS3a3: [ { -B } ]\n",
      "\n",
      "[ { -B } ]\n",
      "[ { C, -A } ]\n",
      "[ { C }, { D, -A }, { E, -A } ]\n",
      "[ { D, -A }, { E, -A }, { D }, { E } ]\n",
      "[ { E, -A }, { D }, { E }, { D } ]\n",
      "[ { D }, { E }, { D }, { E }, { -A } ]\n",
      "[ { E }, { D }, { E }, { -A } ]\n",
      "Unsatisfiable\n",
      "7 steps were taken\n",
      "\n",
      "\n",
      "test 4 \n",
      "------\n",
      "KB3a4: [ { A }, { B, C, -A }, { D, -C }, { E, -C } ]\n",
      "SOS3a4: [ { -E } ]\n",
      "\n",
      "[ { -E } ]\n",
      "[ { -C } ]\n",
      "[ { B, -A } ]\n",
      "[ { B } ]\n",
      "[  ]\n",
      "Satisfiable\n",
      "4 steps were taken\n",
      "\n"
     ]
    }
   ],
   "source": [
    "def prove4(KB, SOS, limit=30,trace=True):\n",
    "    queue = SOS.copy()\n",
    "    for i in range(limit):\n",
    "        if trace:\n",
    "            pprint(queue)\n",
    "        if queue == []:\n",
    "            print(\"Satisfiable\")\n",
    "            print(str(i)+\" steps were taken\")\n",
    "            return True\n",
    "        curr = queue.pop(0)\n",
    "        queue2 = KB.copy() + queue.copy()\n",
    "        S = set()\n",
    "        for y in resolveAll(queue2, curr):\n",
    "            if y == set():\n",
    "                print(\"Unsatisfiable\")\n",
    "                print(str(i+1)+\" steps were taken\")\n",
    "                return False\n",
    "            elif isTautology(y) or y in S:\n",
    "                continue\n",
    "            else:\n",
    "                queue.append(y)\n",
    "                S.add(frozenset(y))\n",
    "            \n",
    "    print(\"The empty clause cannot be found after \"+str(limit)+\" steps.\")\n",
    "    return False\n",
    "\n",
    "\n",
    "print('\\ntest 1','\\n------')\n",
    "KB3a1 = [ {2} ]\n",
    "SOS3a1 = [ {-2} ]\n",
    "\n",
    "print('KB3a1: ',end=''); pprint(KB3a1); \n",
    "print('SOS3a1: ',end=''); pprint(SOS3a1); print()\n",
    "prove4(KB3a1,SOS3a1); print()\n",
    "\n",
    "# etc for other 3\n",
    "\n",
    "print('\\ntest 2','\\n------')\n",
    "KB3a2 = [ {1}, {-1,2}, {-2,3}, {-3,4} ]\n",
    "SOS3a2 = [ {-4} ]\n",
    "\n",
    "print('KB3a2: ',end=''); pprint(KB3a2); \n",
    "print('SOS3a2: ',end=''); pprint(SOS3a2); print()\n",
    "prove4(KB3a2,SOS3a2); print()\n",
    "\n",
    "print('\\ntest 3','\\n------')\n",
    "KB3a3 = [ {1}, {-1,2,3}, {-3,4}, {-3,5}, {-5} ]\n",
    "SOS3a3 = [ {-2} ]\n",
    "\n",
    "print('KB3a3: ',end=''); pprint(KB3a3); \n",
    "print('SOS3a3: ',end=''); pprint(SOS3a3); print()\n",
    "prove4(KB3a3,SOS3a3); print()\n",
    "\n",
    "print('\\ntest 4','\\n------')\n",
    "KB3a4 = [ {1}, {-1,2,3}, {-3,4}, {-3,5} ]\n",
    "SOS3a4 = [ {-5} ]\n",
    "\n",
    "print('KB3a4: ',end=''); pprint(KB3a4); \n",
    "print('SOS3a4: ',end=''); pprint(SOS3a4); print()\n",
    "prove4(KB3a4,SOS3a4); print()"
   ]
  },
  {
   "cell_type": "markdown",
   "metadata": {},
   "source": [
    "### Part B\n",
    "\n",
    "Now test it on the example from Problem Three, Part B. "
   ]
  },
  {
   "cell_type": "code",
   "execution_count": 17,
   "metadata": {},
   "outputs": [
    {
     "name": "stdout",
     "output_type": "stream",
     "text": [
      "test 4b \n",
      "------\n",
      "KB4b1: [ { B, -A }, { A, B }, { -A, -B } ]\n",
      "SOS4b1: [ { A, -B } ]\n",
      "\n",
      "[ { A, -B } ]\n",
      "[ { A }, { -B } ]\n",
      "[ { -B }, { B }, { -B } ]\n",
      "Unsatisfiable\n",
      "3 steps were taken\n",
      "\n"
     ]
    }
   ],
   "source": [
    "print('test 4b','\\n------')\n",
    "KB4b1 = [ {-1, 2}, {1, 2}, {-1, -2} ]\n",
    "SOS4b1 = [ {1, -2} ]\n",
    "\n",
    "print('KB4b1: ',end=''); pprint(KB4b1); \n",
    "print('SOS4b1: ',end=''); pprint(SOS4b1); print()\n",
    "prove4(KB4b1,SOS4b1); print()"
   ]
  },
  {
   "cell_type": "markdown",
   "metadata": {},
   "source": [
    "### Part C\n",
    "\n",
    "Now test it on the example from Problem Three, Part C, and experiment with it as\n",
    "before to see how far you can search in about one minute. "
   ]
  },
  {
   "cell_type": "code",
   "execution_count": 18,
   "metadata": {},
   "outputs": [
    {
     "name": "stdout",
     "output_type": "stream",
     "text": [
      "test 4c \n",
      "------\n",
      "KB4c1: [ { C, -A, -B }, { B, C, -A }, { -C, -A, -B }, { A, -C, -B }, { A, C, -B }, { B, -C, -A }, { A, B, -C } ]\n",
      "SOS4c1: [ { A, B, C } ]\n",
      "\n",
      "Unsatisfiable\n",
      "18 steps were taken\n",
      "\n"
     ]
    }
   ],
   "source": [
    "print('test 4c','\\n------')\n",
    "KB4c1 = [ {-1, -2, 3}, {-1,2,3}, {-1, -2, -3}, {1, -2, -3}, {1, -2, 3}, {-1, 2, -3}, {1, 2, -3} ]\n",
    "SOS4c1 = [ {1, 2, 3} ]\n",
    "\n",
    "print('KB4c1: ',end=''); pprint(KB4c1); \n",
    "print('SOS4c1: ',end=''); pprint(SOS4c1); print()\n",
    "prove4(KB4c1,SOS4c1, 100, False); print()\n",
    "\n",
    "# Somehow the resolver finishes in 18 steps"
   ]
  },
  {
   "cell_type": "markdown",
   "metadata": {},
   "source": [
    "### Part D\n",
    "\n",
    "Summarize what you observed. Does this strategy make a significant difference?\n",
    "\n",
    "(If you have an interest, you might try this on a similar example with 4 symbols....)"
   ]
  },
  {
   "cell_type": "markdown",
   "metadata": {},
   "source": [
    "This strategy decreases the time needed to run on several tests; it even cut off 2 steps from part B to prove its unsatisfiability."
   ]
  },
  {
   "cell_type": "markdown",
   "metadata": {},
   "source": [
    "## Problem Five (Shortest-Clauses-First) (10 pts)\n",
    "\n",
    "Now you should take your latest `prove4` and add one more refinement:  make your queue\n",
    "a priority queue ordered by size, with smaller clauses to the front.\n",
    "\n",
    "The easiest way to do this (certainly not the most efficient) is to simply sort the queue every time\n",
    "you add something to the end. You can sort a list of sets/lists using as key the size of the member\n",
    "set/list, as illustrated here:"
   ]
  },
  {
   "cell_type": "code",
   "execution_count": 19,
   "metadata": {},
   "outputs": [
    {
     "data": {
      "text/plain": [
       "[{2, 3, 4}, {1, 2}, {3, 4}, {1}, {3}]"
      ]
     },
     "execution_count": 19,
     "metadata": {},
     "output_type": "execute_result"
    }
   ],
   "source": [
    "A = [ {1,2}, {2,3,4}, {1}, {3}, {3,4}]\n",
    "\n",
    "A.sort(reverse=True, key=(lambda x: len(x)))            # sorts in place\n",
    "\n",
    "A"
   ]
  },
  {
   "cell_type": "markdown",
   "metadata": {},
   "source": [
    "### Part A\n",
    "\n",
    "Rewrite `prove4` as `prove5` with a priority queue instead of a queue, as suggested, and test it\n",
    "on the same simple examples as in Part A of the previous two problems, to verify that it works as expected. "
   ]
  },
  {
   "cell_type": "code",
   "execution_count": 20,
   "metadata": {},
   "outputs": [
    {
     "name": "stdout",
     "output_type": "stream",
     "text": [
      "\n",
      "test 1 \n",
      "------\n",
      "KB5a1: [ { B } ]\n",
      "SOS5a1: [ { -B } ]\n",
      "\n",
      "[ { -B } ]\n",
      "Unsatisfiable\n",
      "1 steps were taken\n",
      "\n",
      "\n",
      "test 2 \n",
      "------\n",
      "KB5a2: [ { A }, { B, -A }, { C, -B }, { D, -C } ]\n",
      "SOS5a2: [ { -D } ]\n",
      "\n",
      "[ { -D } ]\n",
      "[ { -C } ]\n",
      "[ { -B } ]\n",
      "[ { -A } ]\n",
      "Unsatisfiable\n",
      "4 steps were taken\n",
      "\n",
      "\n",
      "test 3 \n",
      "------\n",
      "KB5a3: [ { A }, { B, C, -A }, { D, -C }, { E, -C }, { -E } ]\n",
      "SOS5a3: [ { -B } ]\n",
      "\n",
      "[ { -B } ]\n",
      "[ { C, -A } ]\n",
      "[ { C }, { D, -A }, { E, -A } ]\n",
      "[ { D, -A }, { E, -A }, { D }, { E } ]\n",
      "[ { E, -A }, { D }, { E }, { D } ]\n",
      "[ { D }, { E }, { D }, { E }, { -A } ]\n",
      "[ { E }, { D }, { E }, { -A } ]\n",
      "Unsatisfiable\n",
      "7 steps were taken\n",
      "\n",
      "\n",
      "test 4 \n",
      "------\n",
      "KB5a4: [ { A }, { B, C, -A }, { D, -C }, { E, -C } ]\n",
      "SOS5a4: [ { -E } ]\n",
      "\n",
      "[ { -E } ]\n",
      "[ { -C } ]\n",
      "[ { B, -A } ]\n",
      "[ { B } ]\n",
      "[  ]\n",
      "Satisfiable\n",
      "4 steps were taken\n",
      "\n"
     ]
    }
   ],
   "source": [
    "def prove5(KB, SOS, limit=30,trace=True):\n",
    "    queue = SOS.copy()\n",
    "    for i in range(limit):\n",
    "        if trace:\n",
    "            pprint(queue)\n",
    "        if queue == []:\n",
    "            print(\"Satisfiable\")\n",
    "            print(str(i)+\" steps were taken\")\n",
    "            return True\n",
    "        curr = queue.pop(0)\n",
    "        queue2 = KB.copy() + queue.copy()\n",
    "        S = set()\n",
    "        for y in resolveAll(queue2, curr):\n",
    "            if y == set():\n",
    "                print(\"Unsatisfiable\")\n",
    "                print(str(i+1)+\" steps were taken\")\n",
    "                return False\n",
    "            elif isTautology(y) or y in S:\n",
    "                continue\n",
    "            else:\n",
    "                queue.append(y)\n",
    "                S.add(frozenset(y))\n",
    "        queue.sort(reverse=True, key=(lambda x: len(x)))\n",
    "            \n",
    "    print(\"The empty clause cannot be found after \"+str(limit)+\" steps.\")\n",
    "    return False\n",
    "\n",
    "\n",
    "print('\\ntest 1','\\n------')\n",
    "KB5a1 = [ {2} ]\n",
    "SOS5a1 = [ {-2} ]\n",
    "\n",
    "print('KB5a1: ',end=''); pprint(KB5a1); \n",
    "print('SOS5a1: ',end=''); pprint(SOS5a1); print()\n",
    "prove5(KB5a1,SOS5a1); print()\n",
    "\n",
    "# etc for other 3\n",
    "\n",
    "print('\\ntest 2','\\n------')\n",
    "KB5a2 = [ {1}, {-1,2}, {-2,3}, {-3,4} ]\n",
    "SOS5a2 = [ {-4} ]\n",
    "\n",
    "print('KB5a2: ',end=''); pprint(KB5a2); \n",
    "print('SOS5a2: ',end=''); pprint(SOS5a2); print()\n",
    "prove4(KB5a2,SOS5a2); print()\n",
    "\n",
    "print('\\ntest 3','\\n------')\n",
    "KB5a3 = [ {1}, {-1,2,3}, {-3,4}, {-3,5}, {-5} ]\n",
    "SOS5a3 = [ {-2} ]\n",
    "\n",
    "print('KB5a3: ',end=''); pprint(KB5a3); \n",
    "print('SOS5a3: ',end=''); pprint(SOS5a3); print()\n",
    "prove4(KB5a3,SOS5a3); print()\n",
    "\n",
    "print('\\ntest 4','\\n------')\n",
    "KB5a4 = [ {1}, {-1,2,3}, {-3,4}, {-3,5} ]\n",
    "SOS5a4 = [ {-5} ]\n",
    "\n",
    "print('KB5a4: ',end=''); pprint(KB5a4); \n",
    "print('SOS5a4: ',end=''); pprint(SOS5a4); print()\n",
    "prove4(KB5a4,SOS5a4); print()"
   ]
  },
  {
   "cell_type": "markdown",
   "metadata": {},
   "source": [
    "### Part B\n",
    "Again, test your new prover on the example from Part B of the previous two problems. "
   ]
  },
  {
   "cell_type": "code",
   "execution_count": 21,
   "metadata": {},
   "outputs": [
    {
     "name": "stdout",
     "output_type": "stream",
     "text": [
      "test 5b \n",
      "------\n",
      "KB5b1: [ { B, -A }, { A, B }, { -A, -B } ]\n",
      "SOS5b1: [ { A, -B } ]\n",
      "\n",
      "[ { A, -B } ]\n",
      "[ { A }, { -B } ]\n",
      "[ { -B }, { B }, { -B } ]\n",
      "Unsatisfiable\n",
      "3 steps were taken\n",
      "\n"
     ]
    }
   ],
   "source": [
    "print('test 5b','\\n------')\n",
    "KB5b1 = [ {-1, 2}, {1, 2}, {-1, -2} ]\n",
    "SOS5b1 = [ {1, -2} ]\n",
    "\n",
    "print('KB5b1: ',end=''); pprint(KB5b1); \n",
    "print('SOS5b1: ',end=''); pprint(SOS5b1); print()\n",
    "prove5(KB5b1,SOS5b1); print()"
   ]
  },
  {
   "cell_type": "markdown",
   "metadata": {},
   "source": [
    "### Part C\n",
    "Again, test your new prover on the example from Part C of the previous two problems. "
   ]
  },
  {
   "cell_type": "code",
   "execution_count": 22,
   "metadata": {},
   "outputs": [
    {
     "name": "stdout",
     "output_type": "stream",
     "text": [
      "test 5c \n",
      "------\n",
      "KB5c1: [ { A, B, C }, { B, C, -A }, { A, B, -C }, { A, -C, -B }, { A, C, -B }, { B, -C, -A }, { -C, -A, -B } ]\n",
      "SOS5c1: [ { C, -A, -B } ]\n",
      "\n",
      "The empty clause cannot be found after 1000 steps.\n",
      "\n"
     ]
    }
   ],
   "source": [
    "print('test 5c','\\n------')\n",
    "KB5c1 = [ {1, 2, 3}, {-1,2,3}, {1, 2, -3}, {1, -2, -3}, {1, -2, 3}, {-1, 2, -3}, {-1, -2, -3} ]\n",
    "SOS5c1 = [ {-1, -2, 3} ]\n",
    "\n",
    "print('KB5c1: ',end=''); pprint(KB5c1); \n",
    "print('SOS5c1: ',end=''); pprint(SOS5c1); print()\n",
    "prove5(KB5c1,SOS5c1, 1000, False); print()\n",
    "\n",
    "# The prover goes up to 1000+ steps in a minute!"
   ]
  },
  {
   "cell_type": "markdown",
   "metadata": {},
   "source": [
    "### Part D\n",
    "\n",
    "What did you observe?  Did this make a significant difference in the amount of time it took to complete\n",
    "the proof?  \n",
    "\n",
    "Finally, do you think these refinements would reduce the exponential search space for such\n",
    "problems to polynomial size, or\n",
    "is exponential growth still a problem? (Hint: think about what you learned in your algorithms or\n",
    "complexity class about the Satisfiability Problem.)\n",
    "\n",
    "Response:\n",
    "\n",
    "The prover was able to go through many more steps in a shorter amount of time, notably demonstrated by Part C.\n",
    "\n",
    "These refinements do not reduce the exponential search space; satisfiability with more than 2 literals per clause in CNF form is seen as a problem in NP; which means that a solution for it cannot exist in polynomial time if P!=NP."
   ]
  },
  {
   "cell_type": "markdown",
   "metadata": {},
   "source": [
    "## Problem Six (10 pts)\n",
    "\n",
    "In this problem, we will use the fastest method, `prove5`, to solve some word problems which can\n",
    "be encoded as problems in propositional logic. For each, give the encoding of the statements\n",
    "in the problem as symbols. (You might want to review pp.32-33 in the textbook before starting.)\n",
    "\n",
    "\n",
    "### Part A\n",
    "\n",
    "Do problem 2.10 from your textbook.\n",
    "\n",
    "We can convert the sentences into the following statements:\n",
    "\n",
    "Statement 1: $A \\implies C \\equiv \\neg A \\lor C$\n",
    "Statement 2: $(\\neg A \\land \\neg K) \\lor (A \\land K) \\equiv (\\neg A \\lor K) \\land (A \\lor \\neg K)$\n",
    "Statement 3: $K$\n",
    "\n",
    "Since $K$ is true, we can substitute it into S2: $(\\neg A \\land F) \\lor (A \\land T) \\equiv F \\lor A \\equiv A$, which can then be substituted into S1: $F \\lor C \\equiv C$; the criminal therefore had a car.\n",
    "\n",
    "\n",
    "### Part B\n",
    "\n",
    "A man and a woman are talking. “I am a\n",
    "man” said the person with black hair. “I am a woman” said the person with white hair.\n",
    "At least one of them is lying.  Formalize the puzzle using propositional logic and show using resolution that both of them are lying.\n",
    "\n",
    "We represent the statement as $(M \\land \\neg W) \\lor (\\neg M \\land W)$, where $M$ represents being a man and $W$ represents being a woman. Based on its assignments, only one of $M$ or $W$ can be true at once to make the logical statement true. By resolving the statements, we also obtain an empty clause; this means that there is no satisfying interpretation and both people are lying.\n",
    "\n",
    "### Part C\n",
    "\n",
    "Three boxes are presented to you. One contains gold, the other two are empty.\n",
    "Each box has imprinted on it a clue as to its contents; the clues are:\n",
    "\n",
    "- Box 1 “The gold is not here”\n",
    "- Box 2 “The gold is not here”\n",
    "- Box 3 “The gold is in Box 2”\n",
    "\n",
    "Only one message is true; the other two are false. Which box has the gold?\n",
    "\n",
    "Formalize the puzzle using propositional logic and find the solution using resolution.\n",
    "\n",
    "We can convert the clues into logical statements as follows:\n",
    "\n",
    "Statement 1: $\\neg B_1$\n",
    "Statement 2: $\\neg B_2$\n",
    "Statement 3: $B_3 = B_2$\n",
    "Truth: $S1 \\lor S2 \\lor S3$\n",
    "\n",
    "If we assign $B_1$ to $T$, then S1 and S3 would both be false; if we assign $B_2$ to $T$, then S2 and S3 both evaluate to false; if we assign $B_3$ to $T$, then S2 and S3 both evaluate to true, and by process of elimination (the other two possibilities are invalid), we know that the third box has the gold.\n"
   ]
  },
  {
   "cell_type": "code",
   "execution_count": 23,
   "metadata": {},
   "outputs": [
    {
     "name": "stdout",
     "output_type": "stream",
     "text": [
      "Part A \n",
      "------\n",
      "KB6a1: [ { C }, { B, -A }, { C, -A } ]\n",
      "SOS6a1: [ { A, -C } ]\n",
      "\n",
      "Satisfiable\n",
      "70 steps were taken\n",
      "\n"
     ]
    }
   ],
   "source": [
    "# Part A Code\n",
    "print('Part A','\\n------')\n",
    "KB6a1 = [ {3}, {-1, 2}, {-1, 3} ]\n",
    "SOS6a1 = [ {1, -3} ]\n",
    "\n",
    "print('KB6a1: ',end=''); pprint(KB6a1); \n",
    "print('SOS6a1: ',end=''); pprint(SOS6a1); print()\n",
    "prove3(KB6a1,SOS6a1, 100, False); print()"
   ]
  },
  {
   "cell_type": "code",
   "execution_count": 24,
   "metadata": {},
   "outputs": [
    {
     "name": "stdout",
     "output_type": "stream",
     "text": [
      "Part B \n",
      "------\n",
      "KB6b1: [ { A, -B } ]\n",
      "SOS6b1: [ { B, -A } ]\n",
      "\n",
      "Satisfiable\n",
      "1 steps were taken\n",
      "\n"
     ]
    }
   ],
   "source": [
    "# Part B Code\n",
    "print('Part B','\\n------')\n",
    "KB6b1 = [ {1, -2} ]\n",
    "SOS6b1 = [ {-1, 2} ]\n",
    "\n",
    "print('KB6b1: ',end=''); pprint(KB6b1); \n",
    "print('SOS6b1: ',end=''); pprint(SOS6b1); print()\n",
    "prove5(KB6b1,SOS6b1, 30, False); print()"
   ]
  },
  {
   "cell_type": "code",
   "execution_count": 25,
   "metadata": {},
   "outputs": [
    {
     "name": "stdout",
     "output_type": "stream",
     "text": [
      "Part C \n",
      "------\n",
      "KB6c1: [ { -A }, { -B }, { B, -C } ]\n",
      "SOS6c1: [ { C, -B } ]\n",
      "\n",
      "Satisfiable\n",
      "1 steps were taken\n",
      "\n"
     ]
    }
   ],
   "source": [
    "# Part C Code\n",
    "print('Part C','\\n------')\n",
    "KB6c1 = [ {-1}, {-2}, {2, -3} ]\n",
    "SOS6c1 = [ {-2, 3} ]\n",
    "\n",
    "print('KB6c1: ',end=''); pprint(KB6c1); \n",
    "print('SOS6c1: ',end=''); pprint(SOS6c1); print()\n",
    "prove5(KB6c1,SOS6c1, 30, False); print()"
   ]
  },
  {
   "cell_type": "markdown",
   "metadata": {},
   "source": [
    "## Problem Seven (First-Order Logic) (5 pts)\n",
    "\n",
    "Do problem 3.1 from your textbook. You may provide your solution using ASCII text; by hand-writing, scanning, and pasting; or (preferably) in Latex.\n",
    "\n",
    "Solutions:\n",
    "\n",
    "a) $\\forall x,  male(x) \\iff \\neg(female(x))$\n",
    "\n",
    "b1) $\\forall x, father(x) \\iff male(x) \\land \\exists y \\exists z, child(y, x, z)$\n",
    "\n",
    "b2) $\\forall x, mother(x) \\iff female(x) \\land \\exists y \\exists z, child(y, x, z)$\n",
    "\n",
    "c) $\\forall x \\forall y, siblings(x, y) \\iff \\exists a \\exists b, child(x, a, b) \\land child(y, a, b)$\n",
    "\n",
    "d) $\\forall x \\forall y \\forall z, parents(x, y, z) \\iff male(x) \\land female(y) \\land child(z, x, y)$\n",
    "\n",
    "e) $\\forall x \\forall y, uncle(x, y) \\iff male(x) \\land \\exists a, siblings(x, a) \\land \\exists b, child(y, a, b)$\n",
    "\n",
    "f) $\\forall x \\forall y, ancestor(x, y) \\iff descendant(y, x)$\n",
    "\n",
    "Note that $descendant(x, y)$ is defined in the book as follows: $\\forall x \\forall y, descendant(x, y) \\iff \\exists z, child(x, y, z) \\lor (\\exists u \\exists v, child(x, u, v) \\land descendant(u, y))$."
   ]
  },
  {
   "cell_type": "markdown",
   "metadata": {},
   "source": [
    "## Problem Eight (First-Order Logic)  (5 pts)\n",
    "\n",
    "Do problem 3.2 from your textbook. You may provide your solution using ASCII text; by hand-writing, scanning, and pasting; or (preferably) in Latex.\n",
    "\n",
    "Solutions:\n",
    "\n",
    "a) $\\forall x, person(x) \\implies \\exists y \\exists z mother(y) \\land father(z) \\land parents(y, z, x)$\n",
    "\n",
    "b) $\\exists x, person(x) \\land father(x) \\lor mother(x)$\n",
    "\n",
    "c) $\\forall x, isbird(x) \\implies canfly(x)$\n",
    "\n",
    "d) $\\exists x \\exists y, animal(x) \\land animal(y) \\land eatsgrains(y) \\land caneat(y, x)$, caneat is defined as \"y can be consumed by x\"\n",
    "\n",
    "e) $\\forall x, animal(x) \\land (\\exists y, plant(y) \\land caneat(y, x)) \\lor (\\exists z, animal(z) \\land caneat(z, x) \\land smaller than(z, x))$"
   ]
  },
  {
   "cell_type": "markdown",
   "metadata": {},
   "source": [
    "## Problem Nine (First-Order Logic)  (5 pts)\n",
    "\n",
    "Do problem 3.4 from your textbook. You may provide your solution using ASCII text; by hand-writing, scanning, and pasting; or (preferably) in Latex.\n",
    "\n",
    "Rule 1: $\\forall x \\forall y, lessthan(x, y) \\lor equals(x, y) \\lor greaterthan(x, y)$\n",
    "\n",
    "Rule 2: $\\forall x \\forall y, lessthan(x, y) \\iff greaterthan(y, x)$\n",
    "\n",
    "Rule 3: $\\forall x \\forall y \\forall z, lessthan(x, y) \\land lessthan(y, z) \\implies lessthan(x, z)$"
   ]
  },
  {
   "cell_type": "markdown",
   "metadata": {},
   "source": [
    "## Problem Ten (First-Order Logic)  (5 pts)\n",
    "\n",
    "Do problem 3.5 from your textbook. You may provide your solution using ASCII text; by hand-writing, scanning, and pasting; or (preferably) in Latex.\n",
    "\n",
    "a) MGU: $x \\rightarrow f(z), y \\rightarrow z, u \\rightarrow f(y)$; $p(x, f(y)), p(f(z), u) \\equiv p(f(z), f(y)), p(f(z), f(y))$\n",
    "\n",
    "b) The two expressions cannot be unified; f(x) cannot be unified with y.\n",
    "\n",
    "c) The two expressions cannot be unified; there is no assignment that allows the statements to be equivalent to each other.\n",
    "\n",
    "d) MGU: $x \\rightarrow 3$; $3 < 2*3 \\equiv 3 < 6$\n",
    "\n",
    "e) MGU: $x \\rightarrow g(w,w), y \\rightarrow g(x, x), z \\rightarrow g(y,y), u \\rightarrow f(g(w,w), g(x,x), g(y,y))$; $q(f(x,y,z),f(g(w,w), g(x,x), g(y,y))), q(u,u) \\equiv f(g(w, w), g(x,x), g(y,y))$ $f(g(w, w), g(x,x), g(y,y))$"
   ]
  }
 ],
 "metadata": {
  "kernelspec": {
   "display_name": "Python 3 (ipykernel)",
   "language": "python",
   "name": "python3"
  },
  "language_info": {
   "codemirror_mode": {
    "name": "ipython",
    "version": 3
   },
   "file_extension": ".py",
   "mimetype": "text/x-python",
   "name": "python",
   "nbconvert_exporter": "python",
   "pygments_lexer": "ipython3",
   "version": "3.11.4"
  }
 },
 "nbformat": 4,
 "nbformat_minor": 4
}
